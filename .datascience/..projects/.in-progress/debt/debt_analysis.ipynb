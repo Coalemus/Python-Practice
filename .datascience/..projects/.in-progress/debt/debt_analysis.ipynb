{
 "metadata": {
  "language_info": {
   "codemirror_mode": {
    "name": "ipython",
    "version": 3
   },
   "file_extension": ".py",
   "mimetype": "text/x-python",
   "name": "python",
   "nbconvert_exporter": "python",
   "pygments_lexer": "ipython3",
   "version": "3.8.6-final"
  },
  "orig_nbformat": 2,
  "kernelspec": {
   "name": "python3",
   "display_name": "Python 3.8.6 64-bit",
   "metadata": {
    "interpreter": {
     "hash": "2db524e06e9f5f4ffedc911c917cb75e12dbc923643829bf417064a77eb14d37"
    }
   }
  }
 },
 "nbformat": 4,
 "nbformat_minor": 2,
 "cells": [
  {
   "source": [
    "# Data Analysis for personal Debts.\n",
    "\n",
    "still can't figure out how to code this.\n",
    "\n",
    "The csv is not formatted properly."
   ],
   "cell_type": "markdown",
   "metadata": {}
  },
  {
   "source": [
    "# Debugging\n",
    "*****\n",
    "1. The csv is not formatted properly for pandas to analyze.\n",
    "2. incorrect mtplotlib syntax."
   ],
   "cell_type": "markdown",
   "metadata": {}
  },
  {
   "cell_type": "code",
   "execution_count": null,
   "metadata": {},
   "outputs": [],
   "source": [
    "import matplotlib.pyplot as plt\n",
    "import numpy as np\n",
    "import pandas as pd\n",
    "import csv\n",
    "\n",
    "df = pd.read_csv('debt.csv')\n",
    "df.shape\n",
    "df.describe()"
   ]
  },
  {
   "cell_type": "code",
   "execution_count": null,
   "metadata": {},
   "outputs": [],
   "source": [
    "y = np.linspace(0,10,15)\n",
    "\n",
    "plt.scatter(df, y)\n",
    "plt.show"
   ]
  }
 ]
}