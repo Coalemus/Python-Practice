{
 "metadata": {
  "language_info": {
   "codemirror_mode": {
    "name": "ipython",
    "version": 3
   },
   "file_extension": ".py",
   "mimetype": "text/x-python",
   "name": "python",
   "nbconvert_exporter": "python",
   "pygments_lexer": "ipython3",
   "version": "3.8.6-final"
  },
  "orig_nbformat": 2,
  "kernelspec": {
   "name": "python3",
   "display_name": "Python 3.8.6 64-bit",
   "metadata": {
    "interpreter": {
     "hash": "2db524e06e9f5f4ffedc911c917cb75e12dbc923643829bf417064a77eb14d37"
    }
   }
  }
 },
 "nbformat": 4,
 "nbformat_minor": 2,
 "cells": [
  {
   "source": [
    "# Formula for child height prediction\n",
    "*****\n",
    "1. Add the mother's height and the father's height in either inches or centimeter.\n",
    "\n",
    "2. Add 5 inches (13 centimeters) for boys or subtract 5 inches (13 centimeters) for girls.\n",
    "\n",
    "3. Divide by two."
   ],
   "cell_type": "markdown",
   "metadata": {}
  },
  {
   "source": [
    "# Debugging\n",
    "*****\n",
    "1. in the 3rd flow control, the functions, motherprocess(), fatherprocess(), and childprocess() all initiates their boolean and so in answering the scale, it runs all 3 functions. \n"
   ],
   "cell_type": "markdown",
   "metadata": {}
  },
  {
   "cell_type": "code",
   "execution_count": 4,
   "metadata": {},
   "outputs": [],
   "source": [
    "data = input(\"Are you the mother, father, or child?: \")\n",
    "\n",
    "\n",
    "\n",
    "\n",
    "\n",
    "def processor(data):\n",
    "    if data == \"mother\":\n",
    "        return mother\n",
    "    elif data == \"father\":\n",
    "        return father \n",
    "    elif data == \"father\":\n",
    "        return child\n",
    "    else:\n",
    "        return print(\"unknown command\")\n",
    "\n",
    "def motherprocess(mother):\n",
    "    if mother == \"inch\":\n",
    "        imx = input(\"What is the father's height?: \")\n",
    "        imy = input(\"What is your height?: \")\n",
    "    elif mother == \"centimeter\":\n",
    "        cmx = input(\"What is the father's height?: \")\n",
    "        cmy = input(\"What is your height?: \")\n",
    "    else:\n",
    "        print(\"unknown command\")\n",
    "\n",
    "mother = motherprocess(input(\"What scale do you prefer between inch and centimeter?: \"))\n",
    "\n",
    "def fatherprocess(father):\n",
    "    if father == \"inch\":\n",
    "        ifx = input(\"What is the mother's height?: \")\n",
    "        ify = input(\"What is your height?: \")\n",
    "    elif father == \"centimeter\":\n",
    "        cfx = input(\"What is the mother's height?: \")\n",
    "        cfy = input(\"What is your height?: \")\n",
    "    else:\n",
    "        print(\"unknown command\")\n",
    "\n",
    "father = fatherprocess(input(\"What scale do you prefer between inch and centimeter?: \"))\n",
    "\n",
    "def childprocess(child):\n",
    "    if child == \"inch\":\n",
    "        icx = input(\"What is the mother's height?: \")\n",
    "        icy = input(\"What is the father's height?: \")\n",
    "    elif child == \"centimeter\":\n",
    "        ccx = input(\"What is the mother's height?: \")\n",
    "        ccy = input(\"What is the father's height?: \")\n",
    "    else:\n",
    "        print(\"unknown command\")\n",
    "\n",
    "child = childprocess(input(\"What scale do you prefer between inch and centimeter?: \"))\n",
    "\n",
    "def cmpredictor(x,y):\n",
    "    pass\n",
    "\n",
    "def inpredictor(x,y):\n",
    "    pass"
   ]
  },
  {
   "cell_type": "code",
   "execution_count": null,
   "metadata": {},
   "outputs": [],
   "source": []
  }
 ]
}