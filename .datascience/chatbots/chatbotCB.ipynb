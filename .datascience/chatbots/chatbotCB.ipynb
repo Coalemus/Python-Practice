{
 "metadata": {
  "language_info": {
   "codemirror_mode": {
    "name": "ipython",
    "version": 3
   },
   "file_extension": ".py",
   "mimetype": "text/x-python",
   "name": "python",
   "nbconvert_exporter": "python",
   "pygments_lexer": "ipython3",
   "version": "3.8.6-final"
  },
  "orig_nbformat": 2,
  "kernelspec": {
   "name": "python3",
   "display_name": "Python 3.8.6 64-bit",
   "metadata": {
    "interpreter": {
     "hash": "2db524e06e9f5f4ffedc911c917cb75e12dbc923643829bf417064a77eb14d37"
    }
   }
  }
 },
 "nbformat": 4,
 "nbformat_minor": 2,
 "cells": [
  {
   "cell_type": "code",
   "execution_count": 3,
   "metadata": {},
   "outputs": [
    {
     "output_type": "stream",
     "name": "stdout",
     "text": [
      "List Trainer: [####################] 100%[nltk_data] Downloading package averaged_perceptron_tagger to\n",
      "[nltk_data]     C:\\Users\\Flores\\AppData\\Roaming\\nltk_data...\n",
      "[nltk_data]   Package averaged_perceptron_tagger is already up-to-\n",
      "[nltk_data]       date!\n",
      "[nltk_data] Downloading package punkt to\n",
      "[nltk_data]     C:\\Users\\Flores\\AppData\\Roaming\\nltk_data...\n",
      "[nltk_data]   Package punkt is already up-to-date!\n",
      "[nltk_data] Downloading package stopwords to\n",
      "[nltk_data]     C:\\Users\\Flores\\AppData\\Roaming\\nltk_data...\n",
      "[nltk_data]   Package stopwords is already up-to-date!\n",
      "\n",
      "List Trainer: [####################] 100%\n",
      "List Trainer: [####################] 100%\n",
      "Training ai.yml: [####################] 100%\n",
      "Training botprofile.yml: [####################] 100%\n",
      "Training computers.yml: [####################] 100%\n",
      "Training conversations.yml: [####################] 100%\n",
      "Training emotion.yml: [####################] 100%\n",
      "Training food.yml: [####################] 100%\n",
      "Training gossip.yml: [####################] 100%\n",
      "Training greetings.yml: [####################] 100%\n",
      "Training health.yml: [####################] 100%\n",
      "Training history.yml: [####################] 100%\n",
      "Training humor.yml: [####################] 100%\n",
      "Training literature.yml: [####################] 100%\n",
      "Training money.yml: [####################] 100%\n",
      "Training movies.yml: [####################] 100%\n",
      "Training politics.yml: [####################] 100%\n",
      "Training psychology.yml: [####################] 100%\n",
      "Training science.yml: [####################] 100%\n",
      "Training sports.yml: [####################] 100%\n",
      "Training trivia.yml: [####################] 100%\n",
      "i'm cool.\n"
     ]
    }
   ],
   "source": [
    "from chatterbot import ChatBot\n",
    "from chatterbot.trainers import ListTrainer\n",
    "from chatterbot.trainers import ChatterBotCorpusTrainer\n",
    "# Do not use Python 3.8 for this \n",
    "# Use Chatterbot 1.0.4\n",
    "# Use sqlalchemy 1.2 not the latst release for Chatterbot 1.0.4 compatibility\n",
    "# Changed the module time.clock in sqlalchemy to time.time\n",
    "my_bot = ChatBot(name='PyBot', read_only=True,\n",
    "                    logic_adapters=\n",
    "                    ['chatterbot.logic.MathematicalEvaluation',\n",
    "                        'chatterbot.logic.BestMatch'])\n",
    "\n",
    "small_talk = ['hi there!',\n",
    "              'hi!',\n",
    "              'how do you do?',\n",
    "              'how are you?',\n",
    "              'i\\'m cool.',\n",
    "              'fine, you?',\n",
    "              'always cool.',\n",
    "              'i\\'m ok',\n",
    "              'glad to hear that.',\n",
    "              'i\\'m fine',\n",
    "              'glad to hear that.',\n",
    "              'i feel awesome',\n",
    "              'excellent, glad to hear that.',\n",
    "              'not so good',\n",
    "              'sorry to hear that.',\n",
    "              'what\\'s your name?',\n",
    "              'i\\'m pybot. ask me a math question, please.']\n",
    "\n",
    "math_talk_1 = ['pythagorean theorem',\n",
    "               'a squared plus b squared equals c squared.']\n",
    "\n",
    "math_talk_2 = ['law of cosines',\n",
    "               'c**2 = a**2 + b**2 - 2 * a * b * cos(gamma)']\n",
    "\n",
    "\n",
    "list_trainer = ListTrainer(my_bot)\n",
    "for item in (small_talk, math_talk_1, math_talk_2):\n",
    "    list_trainer.train(item)\n",
    "\n",
    "corpus_trainer = ChatterBotCorpusTrainer(my_bot)\n",
    "corpus_trainer.train('chatterbot.corpus.english')\n",
    "\n",
    "print(my_bot.get_response(\"What are you doing?\"))"
   ]
  },
  {
   "cell_type": "code",
   "execution_count": null,
   "metadata": {},
   "outputs": [],
   "source": []
  }
 ]
}