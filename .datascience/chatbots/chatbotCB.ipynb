{
 "metadata": {
  "language_info": {
   "codemirror_mode": {
    "name": "ipython",
    "version": 3
   },
   "file_extension": ".py",
   "mimetype": "text/x-python",
   "name": "python",
   "nbconvert_exporter": "python",
   "pygments_lexer": "ipython3",
   "version": "3.8.6-final"
  },
  "orig_nbformat": 2,
  "kernelspec": {
   "name": "python3",
   "display_name": "Python 3.8.6 64-bit",
   "metadata": {
    "interpreter": {
     "hash": "2db524e06e9f5f4ffedc911c917cb75e12dbc923643829bf417064a77eb14d37"
    }
   }
  }
 },
 "nbformat": 4,
 "nbformat_minor": 2,
 "cells": [
  {
   "source": [
    "# ChatterBot AI\n",
    "\n",
    "## Attributes\n",
    "\n",
    "- Called \"Joey\"\n",
    "\n",
    "## Reminders\n",
    "\n",
    "- Do not use Python 3.8 \n",
    "- Use Chatterbot 1.0.4\n",
    "- Use sqlalchemy 1.2 not the latest release for Chatterbot 1.0.4 compatibility\n",
    "    - Changed the module time.clock in sqlalchemy to time.time"
   ],
   "cell_type": "markdown",
   "metadata": {}
  },
  {
   "cell_type": "code",
   "execution_count": null,
   "metadata": {},
   "outputs": [],
   "source": [
    "from chatterbot import ChatBot\n",
    "from chatterbot.trainers import ListTrainer\n",
    "from chatterbot.trainers import ChatterBotCorpusTrainer\n",
    "\n",
    "Joey_bot = ChatBot(name='Joey', read_only=False, # Change to False for learning.\n",
    "                    logic_adapters= # place additional adapters for better responses.\n",
    "                    ['chatterbot.logic.MathematicalEvaluation',\n",
    "                        'chatterbot.logic.BestMatch'])\n",
    "\n",
    "small_talk = ['hi there!',\n",
    "              'hi!',\n",
    "              'how do you do?',\n",
    "              'how are you?',\n",
    "              'i\\'m cool.',\n",
    "              'fine, you?',\n",
    "              'always cool.',\n",
    "              'i\\'m ok',\n",
    "              'glad to hear that.',\n",
    "              'i\\'m fine',\n",
    "              'glad to hear that.',\n",
    "              'i feel awesome',\n",
    "              'excellent, glad to hear that.',\n",
    "              'not so good',\n",
    "              'sorry to hear that.',\n",
    "              'what\\'s your name?',\n",
    "              'i\\'m pybot. ask me a math question, please.']\n",
    "\n",
    "math_talk_1 = ['pythagorean theorem',\n",
    "               'a squared plus b squared equals c squared.']\n",
    "\n",
    "math_talk_2 = ['law of cosines',\n",
    "               'c**2 = a**2 + b**2 - 2 * a * b * cos(gamma)']\n",
    "\n",
    "\n",
    "list_trainer = ListTrainer(Joey_bot)\n",
    "for item in (small_talk, math_talk_1, math_talk_2): # add List variables here.\n",
    "    list_trainer.train(item)\n",
    "\n",
    "corpus_trainer = ChatterBotCorpusTrainer(Joey_bot)\n",
    "corpus_trainer.train('chatterbot.corpus.english') # Place training Corpus here.\n",
    "\n",
    "if __name__ == \"__main__\":\n",
    "    while True:\n",
    "        try:\n",
    "            bot_input = Joey_bot.get_response(input())\n",
    "            print(bot_input)\n",
    "        \n",
    "        except(KeyboardInterrupt, EOFError, SystemExit):\n",
    "            break\n"
   ]
  }
 ]
}